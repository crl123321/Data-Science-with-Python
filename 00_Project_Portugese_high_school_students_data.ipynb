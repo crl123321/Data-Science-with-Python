{
  "cells": [
    {
      "cell_type": "markdown",
      "id": "98b8da3b",
      "metadata": {
        "id": "98b8da3b"
      },
      "source": [
        "<a \n",
        " href=\"https://colab.research.google.com/github/LearnPythonWithRune/DataScienceWithPython/blob/main/colab/starter/00 - Project - Your First Data Science Project.ipynb\"\n",
        " target=\"_parent\">\n",
        "<img \n",
        " src=\"https://colab.research.google.com/assets/colab-badge.svg\"\n",
        "alt=\"Open In Colab\"/>\n",
        "</a>"
      ]
    },
    {
      "cell_type": "markdown",
      "id": "837554ae",
      "metadata": {
        "id": "837554ae"
      },
      "source": [
        "# Project - Guide school to activities to improve G3 grades"
      ]
    },
    {
      "cell_type": "markdown",
      "id": "f64580d7",
      "metadata": {
        "id": "f64580d7"
      },
      "source": [
        "![Data Science Workflow](https://raw.githubusercontent.com/LearnPythonWithRune/DataScienceWithPython/main/jupyter/final/img/ds-workflow.png)"
      ]
    },
    {
      "cell_type": "markdown",
      "id": "7524422c",
      "metadata": {
        "id": "7524422c"
      },
      "source": [
        "## Goal of Project\n",
        "- Explore the dataset from lesson further\n",
        "- Follow the Data Science process to understand it better\n",
        "- It will be your task to identify possible activies to improve G3 grades\n",
        "- NOTE: We have very limited skills, hence, we must limit our ambitions in our analysis"
      ]
    },
    {
      "cell_type": "markdown",
      "id": "17134954",
      "metadata": {
        "id": "17134954"
      },
      "source": [
        "## Step 1: Acquire\n",
        "- Explore problem\n",
        "- Identify data\n",
        "- Import data"
      ]
    },
    {
      "cell_type": "markdown",
      "id": "30bf6278",
      "metadata": {
        "id": "30bf6278"
      },
      "source": [
        "### Step 1.a: Import libraries\n",
        "- Execute the cell below (SHIFT + ENTER)"
      ]
    },
    {
      "cell_type": "code",
      "execution_count": null,
      "id": "55688d65",
      "metadata": {
        "id": "55688d65"
      },
      "outputs": [],
      "source": [
        "import pandas as pd"
      ]
    },
    {
      "cell_type": "markdown",
      "id": "10f05487",
      "metadata": {
        "id": "10f05487"
      },
      "source": [
        "### Step 1.b: Read the data\n",
        "- Use ```pd.read_csv()``` to read the file `files/student-mat.csv`\n",
        "- NOTE: Remember to assign the result to a variable (e.g., ```data```)"
      ]
    },
    {
      "cell_type": "code",
      "execution_count": null,
      "id": "2daf01c1",
      "metadata": {
        "id": "2daf01c1"
      },
      "outputs": [],
      "source": [
        "data = pd.read_csv('https://raw.githubusercontent.com/LearnPythonWithRune/DataScienceWithPython/main/jupyter/final/files/student-mat.csv')"
      ]
    },
    {
      "cell_type": "markdown",
      "id": "65ba503a",
      "metadata": {
        "id": "65ba503a"
      },
      "source": [
        "### Step 1.c: Inspect the data\n",
        "- Call ```.head()``` on the data to see all is as expected"
      ]
    },
    {
      "cell_type": "code",
      "execution_count": null,
      "id": "0a20b23a",
      "metadata": {
        "colab": {
          "base_uri": "https://localhost:8080/",
          "height": 279
        },
        "id": "0a20b23a",
        "outputId": "da89fba7-fea7-4e5c-96a6-1d7eba0a7e05"
      },
      "outputs": [
        {
          "output_type": "execute_result",
          "data": {
            "text/plain": [
              "  school sex  age address famsize Pstatus  Medu  Fedu     Mjob      Fjob  ...  \\\n",
              "0     GP   F   18       U     GT3       A     4     4  at_home   teacher  ...   \n",
              "1     GP   F   17       U     GT3       T     1     1  at_home     other  ...   \n",
              "2     GP   F   15       U     LE3       T     1     1  at_home     other  ...   \n",
              "3     GP   F   15       U     GT3       T     4     2   health  services  ...   \n",
              "4     GP   F   16       U     GT3       T     3     3    other     other  ...   \n",
              "\n",
              "  famrel freetime  goout  Dalc  Walc health absences  G1  G2  G3  \n",
              "0      4        3      4     1     1      3        6   5   6   6  \n",
              "1      5        3      3     1     1      3        4   5   5   6  \n",
              "2      4        3      2     2     3      3       10   7   8  10  \n",
              "3      3        2      2     1     1      5        2  15  14  15  \n",
              "4      4        3      2     1     2      5        4   6  10  10  \n",
              "\n",
              "[5 rows x 33 columns]"
            ],
            "text/html": [
              "\n",
              "  <div id=\"df-ff07898a-e994-4b05-925e-6e5ed35469af\">\n",
              "    <div class=\"colab-df-container\">\n",
              "      <div>\n",
              "<style scoped>\n",
              "    .dataframe tbody tr th:only-of-type {\n",
              "        vertical-align: middle;\n",
              "    }\n",
              "\n",
              "    .dataframe tbody tr th {\n",
              "        vertical-align: top;\n",
              "    }\n",
              "\n",
              "    .dataframe thead th {\n",
              "        text-align: right;\n",
              "    }\n",
              "</style>\n",
              "<table border=\"1\" class=\"dataframe\">\n",
              "  <thead>\n",
              "    <tr style=\"text-align: right;\">\n",
              "      <th></th>\n",
              "      <th>school</th>\n",
              "      <th>sex</th>\n",
              "      <th>age</th>\n",
              "      <th>address</th>\n",
              "      <th>famsize</th>\n",
              "      <th>Pstatus</th>\n",
              "      <th>Medu</th>\n",
              "      <th>Fedu</th>\n",
              "      <th>Mjob</th>\n",
              "      <th>Fjob</th>\n",
              "      <th>...</th>\n",
              "      <th>famrel</th>\n",
              "      <th>freetime</th>\n",
              "      <th>goout</th>\n",
              "      <th>Dalc</th>\n",
              "      <th>Walc</th>\n",
              "      <th>health</th>\n",
              "      <th>absences</th>\n",
              "      <th>G1</th>\n",
              "      <th>G2</th>\n",
              "      <th>G3</th>\n",
              "    </tr>\n",
              "  </thead>\n",
              "  <tbody>\n",
              "    <tr>\n",
              "      <th>0</th>\n",
              "      <td>GP</td>\n",
              "      <td>F</td>\n",
              "      <td>18</td>\n",
              "      <td>U</td>\n",
              "      <td>GT3</td>\n",
              "      <td>A</td>\n",
              "      <td>4</td>\n",
              "      <td>4</td>\n",
              "      <td>at_home</td>\n",
              "      <td>teacher</td>\n",
              "      <td>...</td>\n",
              "      <td>4</td>\n",
              "      <td>3</td>\n",
              "      <td>4</td>\n",
              "      <td>1</td>\n",
              "      <td>1</td>\n",
              "      <td>3</td>\n",
              "      <td>6</td>\n",
              "      <td>5</td>\n",
              "      <td>6</td>\n",
              "      <td>6</td>\n",
              "    </tr>\n",
              "    <tr>\n",
              "      <th>1</th>\n",
              "      <td>GP</td>\n",
              "      <td>F</td>\n",
              "      <td>17</td>\n",
              "      <td>U</td>\n",
              "      <td>GT3</td>\n",
              "      <td>T</td>\n",
              "      <td>1</td>\n",
              "      <td>1</td>\n",
              "      <td>at_home</td>\n",
              "      <td>other</td>\n",
              "      <td>...</td>\n",
              "      <td>5</td>\n",
              "      <td>3</td>\n",
              "      <td>3</td>\n",
              "      <td>1</td>\n",
              "      <td>1</td>\n",
              "      <td>3</td>\n",
              "      <td>4</td>\n",
              "      <td>5</td>\n",
              "      <td>5</td>\n",
              "      <td>6</td>\n",
              "    </tr>\n",
              "    <tr>\n",
              "      <th>2</th>\n",
              "      <td>GP</td>\n",
              "      <td>F</td>\n",
              "      <td>15</td>\n",
              "      <td>U</td>\n",
              "      <td>LE3</td>\n",
              "      <td>T</td>\n",
              "      <td>1</td>\n",
              "      <td>1</td>\n",
              "      <td>at_home</td>\n",
              "      <td>other</td>\n",
              "      <td>...</td>\n",
              "      <td>4</td>\n",
              "      <td>3</td>\n",
              "      <td>2</td>\n",
              "      <td>2</td>\n",
              "      <td>3</td>\n",
              "      <td>3</td>\n",
              "      <td>10</td>\n",
              "      <td>7</td>\n",
              "      <td>8</td>\n",
              "      <td>10</td>\n",
              "    </tr>\n",
              "    <tr>\n",
              "      <th>3</th>\n",
              "      <td>GP</td>\n",
              "      <td>F</td>\n",
              "      <td>15</td>\n",
              "      <td>U</td>\n",
              "      <td>GT3</td>\n",
              "      <td>T</td>\n",
              "      <td>4</td>\n",
              "      <td>2</td>\n",
              "      <td>health</td>\n",
              "      <td>services</td>\n",
              "      <td>...</td>\n",
              "      <td>3</td>\n",
              "      <td>2</td>\n",
              "      <td>2</td>\n",
              "      <td>1</td>\n",
              "      <td>1</td>\n",
              "      <td>5</td>\n",
              "      <td>2</td>\n",
              "      <td>15</td>\n",
              "      <td>14</td>\n",
              "      <td>15</td>\n",
              "    </tr>\n",
              "    <tr>\n",
              "      <th>4</th>\n",
              "      <td>GP</td>\n",
              "      <td>F</td>\n",
              "      <td>16</td>\n",
              "      <td>U</td>\n",
              "      <td>GT3</td>\n",
              "      <td>T</td>\n",
              "      <td>3</td>\n",
              "      <td>3</td>\n",
              "      <td>other</td>\n",
              "      <td>other</td>\n",
              "      <td>...</td>\n",
              "      <td>4</td>\n",
              "      <td>3</td>\n",
              "      <td>2</td>\n",
              "      <td>1</td>\n",
              "      <td>2</td>\n",
              "      <td>5</td>\n",
              "      <td>4</td>\n",
              "      <td>6</td>\n",
              "      <td>10</td>\n",
              "      <td>10</td>\n",
              "    </tr>\n",
              "  </tbody>\n",
              "</table>\n",
              "<p>5 rows × 33 columns</p>\n",
              "</div>\n",
              "      <button class=\"colab-df-convert\" onclick=\"convertToInteractive('df-ff07898a-e994-4b05-925e-6e5ed35469af')\"\n",
              "              title=\"Convert this dataframe to an interactive table.\"\n",
              "              style=\"display:none;\">\n",
              "        \n",
              "  <svg xmlns=\"http://www.w3.org/2000/svg\" height=\"24px\"viewBox=\"0 0 24 24\"\n",
              "       width=\"24px\">\n",
              "    <path d=\"M0 0h24v24H0V0z\" fill=\"none\"/>\n",
              "    <path d=\"M18.56 5.44l.94 2.06.94-2.06 2.06-.94-2.06-.94-.94-2.06-.94 2.06-2.06.94zm-11 1L8.5 8.5l.94-2.06 2.06-.94-2.06-.94L8.5 2.5l-.94 2.06-2.06.94zm10 10l.94 2.06.94-2.06 2.06-.94-2.06-.94-.94-2.06-.94 2.06-2.06.94z\"/><path d=\"M17.41 7.96l-1.37-1.37c-.4-.4-.92-.59-1.43-.59-.52 0-1.04.2-1.43.59L10.3 9.45l-7.72 7.72c-.78.78-.78 2.05 0 2.83L4 21.41c.39.39.9.59 1.41.59.51 0 1.02-.2 1.41-.59l7.78-7.78 2.81-2.81c.8-.78.8-2.07 0-2.86zM5.41 20L4 18.59l7.72-7.72 1.47 1.35L5.41 20z\"/>\n",
              "  </svg>\n",
              "      </button>\n",
              "      \n",
              "  <style>\n",
              "    .colab-df-container {\n",
              "      display:flex;\n",
              "      flex-wrap:wrap;\n",
              "      gap: 12px;\n",
              "    }\n",
              "\n",
              "    .colab-df-convert {\n",
              "      background-color: #E8F0FE;\n",
              "      border: none;\n",
              "      border-radius: 50%;\n",
              "      cursor: pointer;\n",
              "      display: none;\n",
              "      fill: #1967D2;\n",
              "      height: 32px;\n",
              "      padding: 0 0 0 0;\n",
              "      width: 32px;\n",
              "    }\n",
              "\n",
              "    .colab-df-convert:hover {\n",
              "      background-color: #E2EBFA;\n",
              "      box-shadow: 0px 1px 2px rgba(60, 64, 67, 0.3), 0px 1px 3px 1px rgba(60, 64, 67, 0.15);\n",
              "      fill: #174EA6;\n",
              "    }\n",
              "\n",
              "    [theme=dark] .colab-df-convert {\n",
              "      background-color: #3B4455;\n",
              "      fill: #D2E3FC;\n",
              "    }\n",
              "\n",
              "    [theme=dark] .colab-df-convert:hover {\n",
              "      background-color: #434B5C;\n",
              "      box-shadow: 0px 1px 3px 1px rgba(0, 0, 0, 0.15);\n",
              "      filter: drop-shadow(0px 1px 2px rgba(0, 0, 0, 0.3));\n",
              "      fill: #FFFFFF;\n",
              "    }\n",
              "  </style>\n",
              "\n",
              "      <script>\n",
              "        const buttonEl =\n",
              "          document.querySelector('#df-ff07898a-e994-4b05-925e-6e5ed35469af button.colab-df-convert');\n",
              "        buttonEl.style.display =\n",
              "          google.colab.kernel.accessAllowed ? 'block' : 'none';\n",
              "\n",
              "        async function convertToInteractive(key) {\n",
              "          const element = document.querySelector('#df-ff07898a-e994-4b05-925e-6e5ed35469af');\n",
              "          const dataTable =\n",
              "            await google.colab.kernel.invokeFunction('convertToInteractive',\n",
              "                                                     [key], {});\n",
              "          if (!dataTable) return;\n",
              "\n",
              "          const docLinkHtml = 'Like what you see? Visit the ' +\n",
              "            '<a target=\"_blank\" href=https://colab.research.google.com/notebooks/data_table.ipynb>data table notebook</a>'\n",
              "            + ' to learn more about interactive tables.';\n",
              "          element.innerHTML = '';\n",
              "          dataTable['output_type'] = 'display_data';\n",
              "          await google.colab.output.renderOutput(dataTable, element);\n",
              "          const docLink = document.createElement('div');\n",
              "          docLink.innerHTML = docLinkHtml;\n",
              "          element.appendChild(docLink);\n",
              "        }\n",
              "      </script>\n",
              "    </div>\n",
              "  </div>\n",
              "  "
            ]
          },
          "metadata": {},
          "execution_count": 4
        }
      ],
      "source": [
        "data.head()"
      ]
    },
    {
      "cell_type": "markdown",
      "id": "8cadc020",
      "metadata": {
        "id": "8cadc020"
      },
      "source": [
        "### Step 1.d: Check length of data\n",
        "- Call ```len(...)``` on the data\n",
        "- Result: There should be 395 rows of data"
      ]
    },
    {
      "cell_type": "code",
      "execution_count": null,
      "id": "c7251d47",
      "metadata": {
        "colab": {
          "base_uri": "https://localhost:8080/"
        },
        "id": "c7251d47",
        "outputId": "32066f62-0294-42c8-fa59-cdebe0e50573"
      },
      "outputs": [
        {
          "output_type": "execute_result",
          "data": {
            "text/plain": [
              "395"
            ]
          },
          "metadata": {},
          "execution_count": 5
        }
      ],
      "source": [
        "len(data)"
      ]
    },
    {
      "cell_type": "markdown",
      "id": "eb0eac44",
      "metadata": {
        "id": "eb0eac44"
      },
      "source": [
        "## Step 2: Prepare\n",
        "- Explore data\n",
        "- Visualize ideas\n",
        "- Cleaning data"
      ]
    },
    {
      "cell_type": "markdown",
      "id": "089d3e83",
      "metadata": {
        "id": "089d3e83"
      },
      "source": [
        "### Notice\n",
        "- We will not cover visualization in this lecture\n",
        "- We also know, that the data is clean - but we will do validations here anyway"
      ]
    },
    {
      "cell_type": "markdown",
      "id": "db6ae1f9",
      "metadata": {
        "id": "db6ae1f9"
      },
      "source": [
        "### Step 2.a: Check the data types\n",
        "- This step tells you if some numeric column is not represented numeric.\n",
        "- Get the data types by ```.dtypes```"
      ]
    },
    {
      "cell_type": "code",
      "execution_count": null,
      "id": "d6ad60a4",
      "metadata": {
        "colab": {
          "base_uri": "https://localhost:8080/"
        },
        "id": "d6ad60a4",
        "outputId": "83efc312-8087-45d9-db10-129ba0b54c93"
      },
      "outputs": [
        {
          "output_type": "execute_result",
          "data": {
            "text/plain": [
              "school        object\n",
              "sex           object\n",
              "age            int64\n",
              "address       object\n",
              "famsize       object\n",
              "Pstatus       object\n",
              "Medu           int64\n",
              "Fedu           int64\n",
              "Mjob          object\n",
              "Fjob          object\n",
              "reason        object\n",
              "guardian      object\n",
              "traveltime     int64\n",
              "studytime      int64\n",
              "failures       int64\n",
              "schoolsup     object\n",
              "famsup        object\n",
              "paid          object\n",
              "activities    object\n",
              "nursery       object\n",
              "higher        object\n",
              "internet      object\n",
              "romantic      object\n",
              "famrel         int64\n",
              "freetime       int64\n",
              "goout          int64\n",
              "Dalc           int64\n",
              "Walc           int64\n",
              "health         int64\n",
              "absences       int64\n",
              "G1             int64\n",
              "G2             int64\n",
              "G3             int64\n",
              "dtype: object"
            ]
          },
          "metadata": {},
          "execution_count": 6
        }
      ],
      "source": [
        "data.dtypes"
      ]
    },
    {
      "cell_type": "markdown",
      "id": "040a49d6",
      "metadata": {
        "id": "040a49d6"
      },
      "source": [
        "### Step 2.b: Check for null (missing) values\n",
        "- Data often is missing entries - there can be many reasons for this\n",
        "- We need to deal with that (will do later in course)\n",
        "- Use ```.isnull().any()```"
      ]
    },
    {
      "cell_type": "code",
      "execution_count": null,
      "id": "7eb22514",
      "metadata": {
        "colab": {
          "base_uri": "https://localhost:8080/"
        },
        "id": "7eb22514",
        "outputId": "c3f074b6-beab-4c5b-d7f7-e8586821cb2d"
      },
      "outputs": [
        {
          "output_type": "execute_result",
          "data": {
            "text/plain": [
              "school        False\n",
              "sex           False\n",
              "age           False\n",
              "address       False\n",
              "famsize       False\n",
              "Pstatus       False\n",
              "Medu          False\n",
              "Fedu          False\n",
              "Mjob          False\n",
              "Fjob          False\n",
              "reason        False\n",
              "guardian      False\n",
              "traveltime    False\n",
              "studytime     False\n",
              "failures      False\n",
              "schoolsup     False\n",
              "famsup        False\n",
              "paid          False\n",
              "activities    False\n",
              "nursery       False\n",
              "higher        False\n",
              "internet      False\n",
              "romantic      False\n",
              "famrel        False\n",
              "freetime      False\n",
              "goout         False\n",
              "Dalc          False\n",
              "Walc          False\n",
              "health        False\n",
              "absences      False\n",
              "G1            False\n",
              "G2            False\n",
              "G3            False\n",
              "dtype: bool"
            ]
          },
          "metadata": {},
          "execution_count": 7
        }
      ],
      "source": [
        "data.isnull().any()"
      ]
    },
    {
      "cell_type": "markdown",
      "id": "c3165816",
      "metadata": {
        "id": "c3165816"
      },
      "source": [
        "## Step 3: Analyze\n",
        "- Feature selection\n",
        "- Model selection\n",
        "- Analyze data"
      ]
    },
    {
      "cell_type": "markdown",
      "id": "6422b3c0",
      "metadata": {
        "id": "6422b3c0"
      },
      "source": [
        "### Description\n",
        "- Want to find 3 features to use in our report\n",
        "- The 3 features should be selected based on\n",
        "    - Actionable insights\n",
        "    - Convey credibility in report\n",
        "    - What is realistic within possibilities (including a budget)"
      ]
    },
    {
      "cell_type": "markdown",
      "id": "7b6e6e5e",
      "metadata": {
        "id": "7b6e6e5e"
      },
      "source": [
        "### Note\n",
        "- This step is where you can explore\n",
        "- You know how to use the following:\n",
        "    - **corr()** to find see correlation\n",
        "    - **groupby()** with **mean()**, **count()**, or **std()**\n",
        "- This should be used for step 4: Report"
      ]
    },
    {
      "cell_type": "markdown",
      "id": "00eb0407",
      "metadata": {
        "id": "00eb0407"
      },
      "source": [
        "### Step 3.a: Investigate correlation\n",
        "- Correlation is an easy measure to find insights that are actionable.\n",
        "- Use **corr()** and only show **G3**, as that is the row we are interested in.\n",
        "    - Notice: **G1** and **G2** are highly correlated, but they are not intented to be used"
      ]
    },
    {
      "cell_type": "code",
      "execution_count": null,
      "id": "42ba6ab1",
      "metadata": {
        "colab": {
          "base_uri": "https://localhost:8080/"
        },
        "id": "42ba6ab1",
        "outputId": "1f680850-a241-4c36-c0c6-01374dc97d24"
      },
      "outputs": [
        {
          "output_type": "execute_result",
          "data": {
            "text/plain": [
              "age          -0.161579\n",
              "Medu          0.217147\n",
              "Fedu          0.152457\n",
              "traveltime   -0.117142\n",
              "studytime     0.097820\n",
              "failures     -0.360415\n",
              "famrel        0.051363\n",
              "freetime      0.011307\n",
              "goout        -0.132791\n",
              "Dalc         -0.054660\n",
              "Walc         -0.051939\n",
              "health       -0.061335\n",
              "absences      0.034247\n",
              "G1            0.801468\n",
              "G2            0.904868\n",
              "G3            1.000000\n",
              "Name: G3, dtype: float64"
            ]
          },
          "metadata": {},
          "execution_count": 8
        }
      ],
      "source": [
        "data.corr()['G3']"
      ]
    },
    {
      "cell_type": "markdown",
      "id": "a8eab491",
      "metadata": {
        "id": "a8eab491"
      },
      "source": [
        "### Step 3.b: Get the Feature names\n",
        "- This step can help you understand features better.\n",
        "- All the features are availbale witb **.columns** applied on the **DataFrame**"
      ]
    },
    {
      "cell_type": "code",
      "execution_count": null,
      "id": "0a3e0a5b",
      "metadata": {
        "colab": {
          "base_uri": "https://localhost:8080/"
        },
        "id": "0a3e0a5b",
        "outputId": "724d43e5-8a38-4f39-9d51-01629dd70130"
      },
      "outputs": [
        {
          "output_type": "execute_result",
          "data": {
            "text/plain": [
              "Index(['school', 'sex', 'age', 'address', 'famsize', 'Pstatus', 'Medu', 'Fedu',\n",
              "       'Mjob', 'Fjob', 'reason', 'guardian', 'traveltime', 'studytime',\n",
              "       'failures', 'schoolsup', 'famsup', 'paid', 'activities', 'nursery',\n",
              "       'higher', 'internet', 'romantic', 'famrel', 'freetime', 'goout', 'Dalc',\n",
              "       'Walc', 'health', 'absences', 'G1', 'G2', 'G3'],\n",
              "      dtype='object')"
            ]
          },
          "metadata": {},
          "execution_count": 9
        }
      ],
      "source": [
        "data.columns"
      ]
    },
    {
      "cell_type": "markdown",
      "id": "77ec5a6d",
      "metadata": {
        "id": "77ec5a6d"
      },
      "source": [
        "### Step 3.c: Investigate features\n",
        "**Repeat this step** (possibly for all features)\n",
        "- Select a features\n",
        "- Calculate the **groupby(...)** **mean()** on **G3**\n",
        "    - HINT: This was done in the lesson\n",
        "- Calculate the **groupby(...)** **count()** on **G3**\n",
        "- Calculate the **groupby(...)** **std()** on **G3**"
      ]
    },
    {
      "cell_type": "code",
      "execution_count": null,
      "id": "373143bd",
      "metadata": {
        "colab": {
          "base_uri": "https://localhost:8080/"
        },
        "id": "373143bd",
        "outputId": "05210831-113f-4162-fc05-333c3e7a6207"
      },
      "outputs": [
        {
          "output_type": "execute_result",
          "data": {
            "text/plain": [
              "internet\n",
              "no      9.409091\n",
              "yes    10.617021\n",
              "Name: G3, dtype: float64"
            ]
          },
          "metadata": {},
          "execution_count": 10
        }
      ],
      "source": [
        "data.groupby('internet').mean()['G3']"
      ]
    },
    {
      "cell_type": "code",
      "execution_count": null,
      "id": "fee4d9bf",
      "metadata": {
        "colab": {
          "base_uri": "https://localhost:8080/"
        },
        "id": "fee4d9bf",
        "outputId": "fe8bb666-56e2-4b28-da85-1f60c9c6ba6a"
      },
      "outputs": [
        {
          "output_type": "execute_result",
          "data": {
            "text/plain": [
              "internet\n",
              "no      66\n",
              "yes    329\n",
              "Name: G3, dtype: int64"
            ]
          },
          "metadata": {},
          "execution_count": 25
        }
      ],
      "source": [
        "data.groupby('internet').count()['G3']"
      ]
    },
    {
      "cell_type": "code",
      "execution_count": null,
      "id": "b42c00d5",
      "metadata": {
        "colab": {
          "base_uri": "https://localhost:8080/"
        },
        "id": "b42c00d5",
        "outputId": "7261ad82-9810-403b-d557-6ed555fc210d"
      },
      "outputs": [
        {
          "output_type": "execute_result",
          "data": {
            "text/plain": [
              "internet\n",
              "no     4.485797\n",
              "yes    4.580494\n",
              "Name: G3, dtype: float64"
            ]
          },
          "metadata": {},
          "execution_count": 26
        }
      ],
      "source": [
        "data.groupby('internet').std()['G3']"
      ]
    },
    {
      "cell_type": "markdown",
      "id": "a25d5bb9",
      "metadata": {
        "id": "a25d5bb9"
      },
      "source": [
        "### Step 3.d Select 3 features\n",
        "- Decide on 3 features to use in the report\n",
        "- The decision should be based on\n",
        "    - Actionable insights\n",
        "    - Convey credibility in report\n",
        "    - What is realistic within possibilities (including a budget)"
      ]
    },
    {
      "cell_type": "code",
      "execution_count": null,
      "id": "0fbd8216",
      "metadata": {
        "colab": {
          "base_uri": "https://localhost:8080/"
        },
        "id": "0fbd8216",
        "outputId": "fcfb6c4c-a0f0-4c6a-b07c-aa191e3d6001"
      },
      "outputs": [
        {
          "output_type": "execute_result",
          "data": {
            "text/plain": [
              "guardian\n",
              "father    10.688889\n",
              "mother    10.483516\n",
              "other      9.062500\n",
              "Name: G3, dtype: float64"
            ]
          },
          "metadata": {},
          "execution_count": 35
        }
      ],
      "source": [
        "data.groupby('guardian').mean()['G3']"
      ]
    },
    {
      "cell_type": "code",
      "execution_count": null,
      "id": "c0480a46",
      "metadata": {
        "colab": {
          "base_uri": "https://localhost:8080/"
        },
        "id": "c0480a46",
        "outputId": "5758efe9-14ac-4e37-caab-24644baad552"
      },
      "outputs": [
        {
          "output_type": "execute_result",
          "data": {
            "text/plain": [
              "guardian\n",
              "father     90\n",
              "mother    273\n",
              "other      32\n",
              "Name: G3, dtype: int64"
            ]
          },
          "metadata": {},
          "execution_count": 36
        }
      ],
      "source": [
        "data.groupby('guardian').count()['G3']"
      ]
    },
    {
      "cell_type": "code",
      "source": [
        "data.groupby('guardian').std()['G3']"
      ],
      "metadata": {
        "colab": {
          "base_uri": "https://localhost:8080/"
        },
        "id": "PLhSMAzhHaNp",
        "outputId": "7dae62b0-062d-4386-d139-ccec095d044d"
      },
      "id": "PLhSMAzhHaNp",
      "execution_count": null,
      "outputs": [
        {
          "output_type": "execute_result",
          "data": {
            "text/plain": [
              "guardian\n",
              "father    4.463697\n",
              "mother    4.597064\n",
              "other     4.689986\n",
              "Name: G3, dtype: float64"
            ]
          },
          "metadata": {},
          "execution_count": 37
        }
      ]
    },
    {
      "cell_type": "code",
      "source": [
        "data.groupby('nursery').mean()['G3']"
      ],
      "metadata": {
        "colab": {
          "base_uri": "https://localhost:8080/"
        },
        "id": "7CGxnXKyHuaS",
        "outputId": "c1977d34-7c63-4d03-f5a0-3f84710f8eb9"
      },
      "id": "7CGxnXKyHuaS",
      "execution_count": null,
      "outputs": [
        {
          "output_type": "execute_result",
          "data": {
            "text/plain": [
              "nursery\n",
              "no      9.950617\n",
              "yes    10.535032\n",
              "Name: G3, dtype: float64"
            ]
          },
          "metadata": {},
          "execution_count": 24
        }
      ]
    },
    {
      "cell_type": "code",
      "source": [
        "data.groupby('nursery').count()['G3']"
      ],
      "metadata": {
        "colab": {
          "base_uri": "https://localhost:8080/"
        },
        "id": "ZIT6do25Hud-",
        "outputId": "262dea24-257c-4fbf-cd3b-ccc91b014269"
      },
      "id": "ZIT6do25Hud-",
      "execution_count": null,
      "outputs": [
        {
          "output_type": "execute_result",
          "data": {
            "text/plain": [
              "nursery\n",
              "no      81\n",
              "yes    314\n",
              "Name: G3, dtype: int64"
            ]
          },
          "metadata": {},
          "execution_count": 31
        }
      ]
    },
    {
      "cell_type": "code",
      "source": [
        "data.groupby('nursery').std()['G3']"
      ],
      "metadata": {
        "colab": {
          "base_uri": "https://localhost:8080/"
        },
        "id": "pVy5k3DEHumG",
        "outputId": "da303fa6-9550-4b90-f020-f148b087242d"
      },
      "id": "pVy5k3DEHumG",
      "execution_count": null,
      "outputs": [
        {
          "output_type": "execute_result",
          "data": {
            "text/plain": [
              "nursery\n",
              "no     4.560431\n",
              "yes    4.586449\n",
              "Name: G3, dtype: float64"
            ]
          },
          "metadata": {},
          "execution_count": 32
        }
      ]
    },
    {
      "cell_type": "markdown",
      "id": "28d82546",
      "metadata": {
        "id": "28d82546"
      },
      "source": [
        "## Step 4: Report\n",
        "- Present findings\n",
        "- Visualize results\n",
        "- Credibility counts"
      ]
    },
    {
      "cell_type": "markdown",
      "id": "eb11258b",
      "metadata": {
        "id": "eb11258b"
      },
      "source": [
        "### Description\n",
        "- With the 3 features from step 3 create a presentation\n",
        "- As we have not learned visualization yet, keep it simple\n",
        "- Remember, that credibility counts"
      ]
    },
    {
      "cell_type": "markdown",
      "id": "aab7c48e",
      "metadata": {
        "id": "aab7c48e"
      },
      "source": [
        "### Notice\n",
        "- At this stage it is not supposed to be perfect.\n",
        "- Present the findings here in the Notebook"
      ]
    },
    {
      "cell_type": "markdown",
      "source": [
        "The features I chose are 'internet', 'guardian', and 'nursery'. These are the nonnumeric features that standout to me. "
      ],
      "metadata": {
        "id": "dO5aoVyuIisO"
      },
      "id": "dO5aoVyuIisO"
    },
    {
      "cell_type": "code",
      "execution_count": null,
      "id": "3e8bb76a",
      "metadata": {
        "id": "3e8bb76a"
      },
      "outputs": [],
      "source": [
        ""
      ]
    },
    {
      "cell_type": "markdown",
      "id": "28ff4186",
      "metadata": {
        "id": "28ff4186"
      },
      "source": [
        "## Step 5: Actions\n",
        "- Use insights\n",
        "- Measure impact\n",
        "- Main goal"
      ]
    },
    {
      "cell_type": "markdown",
      "id": "2034861f",
      "metadata": {
        "id": "2034861f"
      },
      "source": [
        "### Description\n",
        "- What actions should the schools take?\n",
        "- How can they evaluate the impact?\n",
        "- Remember, this is the main goal."
      ]
    },
    {
      "cell_type": "markdown",
      "source": [
        "Students with no internet connections at home have lower G3 on average. Likewise for students with nonparent guardians. The same goes for students who did not attend nursery. The school can provide access to the computer labs in the school for those who have no at-home connection. The school can create a program for students who have nonparent guardians as well for those who did not attend nursery during their early years. This program could be a peer-to-peer tutorial program conducted after or during class hours. The student mentors can be those students who are performing very well in terms of their grades. "
      ],
      "metadata": {
        "id": "0siddpNrKBBS"
      },
      "id": "0siddpNrKBBS"
    },
    {
      "cell_type": "code",
      "execution_count": null,
      "id": "e732b58b",
      "metadata": {
        "id": "e732b58b"
      },
      "outputs": [],
      "source": [
        ""
      ]
    }
  ],
  "metadata": {
    "language_info": {
      "name": "python"
    },
    "colab": {
      "name": "00 - Project - Portugese high school students data.ipynb",
      "provenance": [],
      "collapsed_sections": []
    },
    "kernelspec": {
      "name": "python3",
      "display_name": "Python 3"
    },
    "gpuClass": "standard"
  },
  "nbformat": 4,
  "nbformat_minor": 5
}